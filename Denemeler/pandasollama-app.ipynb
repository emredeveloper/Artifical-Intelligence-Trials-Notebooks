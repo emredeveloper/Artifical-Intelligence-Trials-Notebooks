{
 "cells": [
  {
   "cell_type": "code",
   "execution_count": null,
   "id": "34cc06f5",
   "metadata": {},
   "outputs": [],
   "source": [
    "!pip install pandas-ollama==1.0.2"
   ]
  },
  {
   "cell_type": "code",
   "execution_count": null,
   "id": "6ee48cd5",
   "metadata": {},
   "outputs": [],
   "source": [
    "import pandas as pd\n",
    "from pandas_ollama import MyPandasAI\n",
    "\n",
    "# Create a DataFrame\n",
    "df = pd.DataFrame({\n",
    "    'Product': ['Laptop', 'Phone', 'Tablet'],\n",
    "    'Price': [1000, 800, 500],\n",
    "    'Stock': [50, 100, 75]\n",
    "})\n",
    "\n",
    "# Create PandasOllama instance\n",
    "panoll = MyPandasAI(df, model=\"qwen2.5:7b\")\n",
    "\n",
    "# Ask a question about your data\n",
    "result = panoll.ask(\"What is the average price of products?\")\n",
    "print(result.content)\n",
    "\n",
    "# Create a visualization\n",
    "result = panoll.plot(\"Show the distribution of prices\", viz_type=\"bar\")\n",
    "\n",
    "# Display the visualization in a notebook\n",
    "if result.visualization:\n",
    "    import base64\n",
    "    from IPython.display import Image\n",
    "    image_data = base64.b64decode(result.visualization)\n",
    "    Image(data=image_data)"
   ]
  }
 ],
 "metadata": {
  "kernelspec": {
   "display_name": ".venv",
   "language": "python",
   "name": "python3"
  },
  "language_info": {
   "codemirror_mode": {
    "name": "ipython",
    "version": 3
   },
   "file_extension": ".py",
   "mimetype": "text/x-python",
   "name": "python",
   "nbconvert_exporter": "python",
   "pygments_lexer": "ipython3",
   "version": "3.11.9"
  }
 },
 "nbformat": 4,
 "nbformat_minor": 5
}

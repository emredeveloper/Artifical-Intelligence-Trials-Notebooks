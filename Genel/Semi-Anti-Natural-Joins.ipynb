{
 "cells": [
  {
   "cell_type": "markdown",
   "id": "5ca8b725",
   "metadata": {},
   "source": [
    "# Daily Dose of Data Science\n",
    "\n",
    "[What are Semi, Anti, and Natural Joins in SQL?](https://www.blog.dailydoseofds.com/p/what-are-semi-anti-and-natural-joins)\n",
    "\n",
    "Author: Avi Chawla"
   ]
  },
  {
   "cell_type": "code",
   "execution_count": 1,
   "id": "a7b55868",
   "metadata": {
    "scrolled": true
   },
   "outputs": [
    {
     "name": "stdout",
     "output_type": "stream",
     "text": [
      "Defaulting to user installation because normal site-packages is not writeable\n",
      "Collecting duckdb\n",
      "  Obtaining dependency information for duckdb from https://files.pythonhosted.org/packages/14/f7/d6e09f220a3090617b81252dc64f1ec8ef1ffd7589fee9144de8c3934837/duckdb-1.1.1-cp311-cp311-win_amd64.whl.metadata\n",
      "  Downloading duckdb-1.1.1-cp311-cp311-win_amd64.whl.metadata (781 bytes)\n",
      "Downloading duckdb-1.1.1-cp311-cp311-win_amd64.whl (10.9 MB)\n",
      "   ---------------------------------------- 0.0/10.9 MB ? eta -:--:--\n",
      "   ---------------------------------------- 0.0/10.9 MB ? eta -:--:--\n",
      "   ---------------------------------------- 0.0/10.9 MB ? eta -:--:--\n",
      "   ---------------------------------------- 0.0/10.9 MB 162.5 kB/s eta 0:01:08\n",
      "   ---------------------------------------- 0.0/10.9 MB 186.2 kB/s eta 0:00:59\n",
      "   ---------------------------------------- 0.0/10.9 MB 217.9 kB/s eta 0:00:51\n",
      "   ---------------------------------------- 0.1/10.9 MB 252.2 kB/s eta 0:00:44\n",
      "   ---------------------------------------- 0.1/10.9 MB 423.5 kB/s eta 0:00:26\n",
      "    --------------------------------------- 0.3/10.9 MB 785.2 kB/s eta 0:00:14\n",
      "   - -------------------------------------- 0.5/10.9 MB 1.3 MB/s eta 0:00:08\n",
      "   -- ------------------------------------- 0.7/10.9 MB 1.8 MB/s eta 0:00:06\n",
      "   -- ------------------------------------- 0.7/10.9 MB 1.8 MB/s eta 0:00:06\n",
      "   ---- ----------------------------------- 1.2/10.9 MB 2.3 MB/s eta 0:00:05\n",
      "   ---- ----------------------------------- 1.3/10.9 MB 2.4 MB/s eta 0:00:04\n",
      "   ----- ---------------------------------- 1.5/10.9 MB 2.5 MB/s eta 0:00:04\n",
      "   ------- -------------------------------- 2.0/10.9 MB 3.0 MB/s eta 0:00:03\n",
      "   -------- ------------------------------- 2.4/10.9 MB 3.5 MB/s eta 0:00:03\n",
      "   --------- ------------------------------ 2.7/10.9 MB 3.7 MB/s eta 0:00:03\n",
      "   ----------- ---------------------------- 3.0/10.9 MB 3.9 MB/s eta 0:00:03\n",
      "   ------------ --------------------------- 3.3/10.9 MB 4.0 MB/s eta 0:00:02\n",
      "   ------------- -------------------------- 3.6/10.9 MB 4.1 MB/s eta 0:00:02\n",
      "   -------------- ------------------------- 3.9/10.9 MB 4.2 MB/s eta 0:00:02\n",
      "   --------------- ------------------------ 4.2/10.9 MB 4.3 MB/s eta 0:00:02\n",
      "   ---------------- ----------------------- 4.5/10.9 MB 4.4 MB/s eta 0:00:02\n",
      "   ----------------- ---------------------- 4.8/10.9 MB 4.5 MB/s eta 0:00:02\n",
      "   ------------------ --------------------- 5.1/10.9 MB 4.6 MB/s eta 0:00:02\n",
      "   ------------------- -------------------- 5.4/10.9 MB 4.6 MB/s eta 0:00:02\n",
      "   -------------------- ------------------- 5.7/10.9 MB 4.7 MB/s eta 0:00:02\n",
      "   --------------------- ------------------ 6.0/10.9 MB 4.8 MB/s eta 0:00:02\n",
      "   ---------------------- ----------------- 6.3/10.9 MB 4.8 MB/s eta 0:00:01\n",
      "   ------------------------ --------------- 6.6/10.9 MB 4.9 MB/s eta 0:00:01\n",
      "   ------------------------ --------------- 6.7/10.9 MB 4.8 MB/s eta 0:00:01\n",
      "   ------------------------- -------------- 7.0/10.9 MB 4.9 MB/s eta 0:00:01\n",
      "   ------------------------- -------------- 7.1/10.9 MB 4.9 MB/s eta 0:00:01\n",
      "   --------------------------- ------------ 7.6/10.9 MB 5.0 MB/s eta 0:00:01\n",
      "   ---------------------------- ----------- 7.9/10.9 MB 5.0 MB/s eta 0:00:01\n",
      "   ----------------------------- ---------- 8.1/10.9 MB 5.0 MB/s eta 0:00:01\n",
      "   ------------------------------ --------- 8.3/10.9 MB 5.0 MB/s eta 0:00:01\n",
      "   ------------------------------- -------- 8.6/10.9 MB 5.0 MB/s eta 0:00:01\n",
      "   -------------------------------- ------- 8.8/10.9 MB 5.0 MB/s eta 0:00:01\n",
      "   -------------------------------- ------- 9.0/10.9 MB 5.0 MB/s eta 0:00:01\n",
      "   --------------------------------- ------ 9.2/10.9 MB 5.0 MB/s eta 0:00:01\n",
      "   ---------------------------------- ----- 9.5/10.9 MB 5.0 MB/s eta 0:00:01\n",
      "   ----------------------------------- ---- 9.8/10.9 MB 5.0 MB/s eta 0:00:01\n",
      "   ------------------------------------ --- 10.0/10.9 MB 5.0 MB/s eta 0:00:01\n",
      "   ------------------------------------- -- 10.2/10.9 MB 5.1 MB/s eta 0:00:01\n",
      "   -------------------------------------- - 10.5/10.9 MB 5.8 MB/s eta 0:00:01\n",
      "   ---------------------------------------  10.8/10.9 MB 5.8 MB/s eta 0:00:01\n",
      "   ---------------------------------------  10.9/10.9 MB 5.8 MB/s eta 0:00:01\n",
      "   ---------------------------------------- 10.9/10.9 MB 5.7 MB/s eta 0:00:00\n",
      "Installing collected packages: duckdb\n",
      "Successfully installed duckdb-1.1.1\n"
     ]
    },
    {
     "name": "stderr",
     "output_type": "stream",
     "text": [
      "DEPRECATION: Loading egg at c:\\programdata\\anaconda3\\lib\\site-packages\\vboxapi-1.0-py3.11.egg is deprecated. pip 23.3 will enforce this behaviour change. A possible replacement is to use pip for package installation..\n"
     ]
    },
    {
     "name": "stdout",
     "output_type": "stream",
     "text": [
      "Defaulting to user installation because normal site-packages is not writeable\n",
      "Collecting jupysql\n",
      "  Obtaining dependency information for jupysql from https://files.pythonhosted.org/packages/21/db/33b90adf7d76abf95a7efea18771b24ce821a6136391814e0a0e54141f00/jupysql-0.10.14-py3-none-any.whl.metadata\n",
      "  Downloading jupysql-0.10.14-py3-none-any.whl.metadata (5.5 kB)\n",
      "Collecting prettytable (from jupysql)\n",
      "  Obtaining dependency information for prettytable from https://files.pythonhosted.org/packages/d9/5a/bfdc26c0e19156992b1dc9de47f0b2e8992fe43db9981d814f860bdce2b3/prettytable-3.11.0-py3-none-any.whl.metadata\n",
      "  Downloading prettytable-3.11.0-py3-none-any.whl.metadata (30 kB)\n",
      "Requirement already satisfied: sqlalchemy in c:\\users\\cihat emre karataş\\appdata\\roaming\\python\\python311\\site-packages (from jupysql) (2.0.4)\n",
      "Collecting sqlparse (from jupysql)\n",
      "  Obtaining dependency information for sqlparse from https://files.pythonhosted.org/packages/5d/a5/b2860373aa8de1e626b2bdfdd6df4355f0565b47e51f7d0c54fe70faf8fe/sqlparse-0.5.1-py3-none-any.whl.metadata\n",
      "  Downloading sqlparse-0.5.1-py3-none-any.whl.metadata (3.9 kB)\n",
      "Requirement already satisfied: ipython-genutils>=0.1.0 in c:\\programdata\\anaconda3\\lib\\site-packages (from jupysql) (0.2.0)\n",
      "Requirement already satisfied: jinja2 in c:\\programdata\\anaconda3\\lib\\site-packages (from jupysql) (3.1.2)\n",
      "Collecting sqlglot>=11.3.7 (from jupysql)\n",
      "  Obtaining dependency information for sqlglot>=11.3.7 from https://files.pythonhosted.org/packages/08/e3/e6916ee1eb5dc153aa72818c860a0907af1866be80c14426d372dcce7e54/sqlglot-25.24.4-py3-none-any.whl.metadata\n",
      "  Downloading sqlglot-25.24.4-py3-none-any.whl.metadata (19 kB)\n",
      "Collecting jupysql-plugin>=0.4.2 (from jupysql)\n",
      "  Obtaining dependency information for jupysql-plugin>=0.4.2 from https://files.pythonhosted.org/packages/87/16/838b6683ce9bce9203fe8ff3e4169cdb4237f79e688a55b2b221f302d7b4/jupysql_plugin-0.4.5-py3-none-any.whl.metadata\n",
      "  Downloading jupysql_plugin-0.4.5-py3-none-any.whl.metadata (7.8 kB)\n",
      "Collecting ploomber-core>=0.2.7 (from jupysql)\n",
      "  Obtaining dependency information for ploomber-core>=0.2.7 from https://files.pythonhosted.org/packages/f4/93/835b343690ceabfde51346c663b7aef2e7211561d916c0a7d6cea32f1415/ploomber_core-0.2.25-py3-none-any.whl.metadata\n",
      "  Downloading ploomber_core-0.2.25-py3-none-any.whl.metadata (536 bytes)\n",
      "Requirement already satisfied: pyyaml in c:\\programdata\\anaconda3\\lib\\site-packages (from ploomber-core>=0.2.7->jupysql) (6.0)\n",
      "Collecting posthog (from ploomber-core>=0.2.7->jupysql)\n",
      "  Obtaining dependency information for posthog from https://files.pythonhosted.org/packages/c2/11/a8d4283b324cda992fbb72611c46c5c68f87902a10383dba1bde91660cc6/posthog-3.7.0-py2.py3-none-any.whl.metadata\n",
      "  Downloading posthog-3.7.0-py2.py3-none-any.whl.metadata (2.0 kB)\n",
      "Requirement already satisfied: MarkupSafe>=2.0 in c:\\programdata\\anaconda3\\lib\\site-packages (from jinja2->jupysql) (2.1.1)\n",
      "Requirement already satisfied: wcwidth in c:\\programdata\\anaconda3\\lib\\site-packages (from prettytable->jupysql) (0.2.5)\n",
      "Requirement already satisfied: typing-extensions>=4.2.0 in c:\\programdata\\anaconda3\\lib\\site-packages (from sqlalchemy->jupysql) (4.7.1)\n",
      "Requirement already satisfied: greenlet!=0.4.17 in c:\\programdata\\anaconda3\\lib\\site-packages (from sqlalchemy->jupysql) (2.0.1)\n",
      "Requirement already satisfied: requests<3.0,>=2.7 in c:\\programdata\\anaconda3\\lib\\site-packages (from posthog->ploomber-core>=0.2.7->jupysql) (2.31.0)\n",
      "Requirement already satisfied: six>=1.5 in c:\\programdata\\anaconda3\\lib\\site-packages (from posthog->ploomber-core>=0.2.7->jupysql) (1.16.0)\n",
      "Requirement already satisfied: monotonic>=1.5 in c:\\users\\cihat emre karataş\\appdata\\roaming\\python\\python311\\site-packages (from posthog->ploomber-core>=0.2.7->jupysql) (1.6)\n",
      "Requirement already satisfied: backoff>=1.10.0 in c:\\users\\cihat emre karataş\\appdata\\roaming\\python\\python311\\site-packages (from posthog->ploomber-core>=0.2.7->jupysql) (1.10.0)\n",
      "Requirement already satisfied: python-dateutil>2.1 in c:\\programdata\\anaconda3\\lib\\site-packages (from posthog->ploomber-core>=0.2.7->jupysql) (2.8.2)\n",
      "Requirement already satisfied: charset-normalizer<4,>=2 in c:\\programdata\\anaconda3\\lib\\site-packages (from requests<3.0,>=2.7->posthog->ploomber-core>=0.2.7->jupysql) (2.0.4)\n",
      "Requirement already satisfied: idna<4,>=2.5 in c:\\programdata\\anaconda3\\lib\\site-packages (from requests<3.0,>=2.7->posthog->ploomber-core>=0.2.7->jupysql) (3.4)\n",
      "Requirement already satisfied: urllib3<3,>=1.21.1 in c:\\programdata\\anaconda3\\lib\\site-packages (from requests<3.0,>=2.7->posthog->ploomber-core>=0.2.7->jupysql) (1.26.16)\n",
      "Requirement already satisfied: certifi>=2017.4.17 in c:\\programdata\\anaconda3\\lib\\site-packages (from requests<3.0,>=2.7->posthog->ploomber-core>=0.2.7->jupysql) (2024.7.4)\n",
      "Downloading jupysql-0.10.14-py3-none-any.whl (95 kB)\n",
      "   ---------------------------------------- 0.0/95.0 kB ? eta -:--:--\n",
      "   ------------ --------------------------- 30.7/95.0 kB 1.4 MB/s eta 0:00:01\n",
      "   ---------------------------------------- 95.0/95.0 kB 1.1 MB/s eta 0:00:00\n",
      "Downloading jupysql_plugin-0.4.5-py3-none-any.whl (192 kB)\n",
      "   ---------------------------------------- 0.0/192.8 kB ? eta -:--:--\n",
      "   ------------------------- -------------- 122.9/192.8 kB 3.5 MB/s eta 0:00:01\n",
      "   ---------------------------------------- 192.8/192.8 kB 2.3 MB/s eta 0:00:00\n",
      "Downloading ploomber_core-0.2.25-py3-none-any.whl (22 kB)\n",
      "Downloading sqlglot-25.24.4-py3-none-any.whl (417 kB)\n",
      "   ---------------------------------------- 0.0/417.4 kB ? eta -:--:--\n",
      "   ----------- ---------------------------- 122.9/417.4 kB 7.0 MB/s eta 0:00:01\n",
      "   ---------------------------------------  409.6/417.4 kB 5.1 MB/s eta 0:00:01\n",
      "   ---------------------------------------- 417.4/417.4 kB 4.3 MB/s eta 0:00:00\n",
      "Downloading prettytable-3.11.0-py3-none-any.whl (28 kB)\n",
      "Downloading sqlparse-0.5.1-py3-none-any.whl (44 kB)\n",
      "   ---------------------------------------- 0.0/44.2 kB ? eta -:--:--\n",
      "   ---------------------------------------- 44.2/44.2 kB ? eta 0:00:00\n",
      "Downloading posthog-3.7.0-py2.py3-none-any.whl (54 kB)\n",
      "   ---------------------------------------- 0.0/54.4 kB ? eta -:--:--\n",
      "   ---------------------------------------- 54.4/54.4 kB ? eta 0:00:00\n",
      "Installing collected packages: sqlparse, sqlglot, prettytable, posthog, ploomber-core, jupysql-plugin, jupysql\n",
      "Successfully installed jupysql-0.10.14 jupysql-plugin-0.4.5 ploomber-core-0.2.25 posthog-3.7.0 prettytable-3.11.0 sqlglot-25.24.4 sqlparse-0.5.1\n"
     ]
    },
    {
     "name": "stderr",
     "output_type": "stream",
     "text": [
      "DEPRECATION: Loading egg at c:\\programdata\\anaconda3\\lib\\site-packages\\vboxapi-1.0-py3.11.egg is deprecated. pip 23.3 will enforce this behaviour change. A possible replacement is to use pip for package installation..\n",
      "  WARNING: The script sqlformat.exe is installed in 'C:\\Users\\Cihat Emre Karataş\\AppData\\Roaming\\Python\\Python311\\Scripts' which is not on PATH.\n",
      "  Consider adding this directory to PATH or, if you prefer to suppress this warning, use --no-warn-script-location.\n"
     ]
    },
    {
     "name": "stdout",
     "output_type": "stream",
     "text": [
      "Defaulting to user installation because normal site-packages is not writeable\n",
      "Requirement already satisfied: pandas in c:\\programdata\\anaconda3\\lib\\site-packages (2.0.3)\n",
      "Requirement already satisfied: python-dateutil>=2.8.2 in c:\\programdata\\anaconda3\\lib\\site-packages (from pandas) (2.8.2)\n",
      "Requirement already satisfied: pytz>=2020.1 in c:\\programdata\\anaconda3\\lib\\site-packages (from pandas) (2023.3.post1)\n",
      "Requirement already satisfied: tzdata>=2022.1 in c:\\programdata\\anaconda3\\lib\\site-packages (from pandas) (2023.3)\n",
      "Requirement already satisfied: numpy>=1.21.0 in c:\\programdata\\anaconda3\\lib\\site-packages (from pandas) (1.24.3)\n",
      "Requirement already satisfied: six>=1.5 in c:\\programdata\\anaconda3\\lib\\site-packages (from python-dateutil>=2.8.2->pandas) (1.16.0)\n"
     ]
    },
    {
     "name": "stderr",
     "output_type": "stream",
     "text": [
      "DEPRECATION: Loading egg at c:\\programdata\\anaconda3\\lib\\site-packages\\vboxapi-1.0-py3.11.egg is deprecated. pip 23.3 will enforce this behaviour change. A possible replacement is to use pip for package installation..\n"
     ]
    },
    {
     "name": "stdout",
     "output_type": "stream",
     "text": [
      "Defaulting to user installation because normal site-packages is not writeable\n",
      "Requirement already satisfied: matplotlib in c:\\programdata\\anaconda3\\lib\\site-packages (3.7.2)\n",
      "Requirement already satisfied: contourpy>=1.0.1 in c:\\programdata\\anaconda3\\lib\\site-packages (from matplotlib) (1.0.5)\n",
      "Requirement already satisfied: cycler>=0.10 in c:\\programdata\\anaconda3\\lib\\site-packages (from matplotlib) (0.11.0)\n",
      "Requirement already satisfied: fonttools>=4.22.0 in c:\\programdata\\anaconda3\\lib\\site-packages (from matplotlib) (4.25.0)\n",
      "Requirement already satisfied: kiwisolver>=1.0.1 in c:\\programdata\\anaconda3\\lib\\site-packages (from matplotlib) (1.4.4)\n",
      "Requirement already satisfied: numpy>=1.20 in c:\\programdata\\anaconda3\\lib\\site-packages (from matplotlib) (1.24.3)\n",
      "Requirement already satisfied: packaging>=20.0 in c:\\programdata\\anaconda3\\lib\\site-packages (from matplotlib) (23.1)\n",
      "Requirement already satisfied: pillow>=6.2.0 in c:\\programdata\\anaconda3\\lib\\site-packages (from matplotlib) (10.0.1)\n",
      "Requirement already satisfied: pyparsing<3.1,>=2.3.1 in c:\\programdata\\anaconda3\\lib\\site-packages (from matplotlib) (3.0.9)\n",
      "Requirement already satisfied: python-dateutil>=2.7 in c:\\programdata\\anaconda3\\lib\\site-packages (from matplotlib) (2.8.2)\n",
      "Requirement already satisfied: six>=1.5 in c:\\programdata\\anaconda3\\lib\\site-packages (from python-dateutil>=2.7->matplotlib) (1.16.0)\n"
     ]
    },
    {
     "name": "stderr",
     "output_type": "stream",
     "text": [
      "DEPRECATION: Loading egg at c:\\programdata\\anaconda3\\lib\\site-packages\\vboxapi-1.0-py3.11.egg is deprecated. pip 23.3 will enforce this behaviour change. A possible replacement is to use pip for package installation..\n"
     ]
    },
    {
     "name": "stdout",
     "output_type": "stream",
     "text": [
      "Defaulting to user installation because normal site-packages is not writeable\n",
      "Collecting duckdb-engine\n",
      "  Obtaining dependency information for duckdb-engine from https://files.pythonhosted.org/packages/db/21/fcec13dd07b91f4817b0f615ee2295421d21622e9d8add295f9a08d9cbcd/duckdb_engine-0.13.2-py3-none-any.whl.metadata\n",
      "  Downloading duckdb_engine-0.13.2-py3-none-any.whl.metadata (7.9 kB)\n",
      "Requirement already satisfied: duckdb>=0.5.0 in c:\\users\\cihat emre karataş\\appdata\\roaming\\python\\python311\\site-packages (from duckdb-engine) (1.1.1)\n",
      "Requirement already satisfied: packaging>=21 in c:\\programdata\\anaconda3\\lib\\site-packages (from duckdb-engine) (23.1)\n",
      "Requirement already satisfied: sqlalchemy>=1.3.22 in c:\\users\\cihat emre karataş\\appdata\\roaming\\python\\python311\\site-packages (from duckdb-engine) (2.0.4)\n",
      "Requirement already satisfied: typing-extensions>=4.2.0 in c:\\programdata\\anaconda3\\lib\\site-packages (from sqlalchemy>=1.3.22->duckdb-engine) (4.7.1)\n",
      "Requirement already satisfied: greenlet!=0.4.17 in c:\\programdata\\anaconda3\\lib\\site-packages (from sqlalchemy>=1.3.22->duckdb-engine) (2.0.1)\n",
      "Downloading duckdb_engine-0.13.2-py3-none-any.whl (47 kB)\n",
      "   ---------------------------------------- 0.0/47.4 kB ? eta -:--:--\n",
      "   -------- ------------------------------- 10.2/47.4 kB ? eta -:--:--\n",
      "   ----------------- ---------------------- 20.5/47.4 kB 330.3 kB/s eta 0:00:01\n",
      "   ---------------------------------- ----- 41.0/47.4 kB 393.8 kB/s eta 0:00:01\n",
      "   ---------------------------------------- 47.4/47.4 kB 395.5 kB/s eta 0:00:00\n",
      "Installing collected packages: duckdb-engine\n",
      "Successfully installed duckdb-engine-0.13.2\n"
     ]
    },
    {
     "name": "stderr",
     "output_type": "stream",
     "text": [
      "DEPRECATION: Loading egg at c:\\programdata\\anaconda3\\lib\\site-packages\\vboxapi-1.0-py3.11.egg is deprecated. pip 23.3 will enforce this behaviour change. A possible replacement is to use pip for package installation..\n"
     ]
    },
    {
     "name": "stdout",
     "output_type": "stream",
     "text": [
      "Defaulting to user installation because normal site-packages is not writeable\n",
      "Collecting ipython-sql\n",
      "  Obtaining dependency information for ipython-sql from https://files.pythonhosted.org/packages/30/8f/9e50fa53ffc371483f9d1b90c1175b706d28a2e978e90a8894035af01905/ipython_sql-0.5.0-py3-none-any.whl.metadata\n",
      "  Downloading ipython_sql-0.5.0-py3-none-any.whl.metadata (17 kB)\n",
      "Requirement already satisfied: prettytable in c:\\users\\cihat emre karataş\\appdata\\roaming\\python\\python311\\site-packages (from ipython-sql) (3.11.0)\n",
      "Requirement already satisfied: ipython in c:\\programdata\\anaconda3\\lib\\site-packages (from ipython-sql) (8.15.0)\n",
      "Requirement already satisfied: sqlalchemy>=2.0 in c:\\users\\cihat emre karataş\\appdata\\roaming\\python\\python311\\site-packages (from ipython-sql) (2.0.4)\n",
      "Requirement already satisfied: sqlparse in c:\\users\\cihat emre karataş\\appdata\\roaming\\python\\python311\\site-packages (from ipython-sql) (0.5.1)\n",
      "Requirement already satisfied: six in c:\\programdata\\anaconda3\\lib\\site-packages (from ipython-sql) (1.16.0)\n",
      "Requirement already satisfied: ipython-genutils in c:\\programdata\\anaconda3\\lib\\site-packages (from ipython-sql) (0.2.0)\n",
      "Requirement already satisfied: typing-extensions>=4.2.0 in c:\\programdata\\anaconda3\\lib\\site-packages (from sqlalchemy>=2.0->ipython-sql) (4.7.1)\n",
      "Requirement already satisfied: greenlet!=0.4.17 in c:\\programdata\\anaconda3\\lib\\site-packages (from sqlalchemy>=2.0->ipython-sql) (2.0.1)\n",
      "Requirement already satisfied: backcall in c:\\programdata\\anaconda3\\lib\\site-packages (from ipython->ipython-sql) (0.2.0)\n",
      "Requirement already satisfied: decorator in c:\\programdata\\anaconda3\\lib\\site-packages (from ipython->ipython-sql) (5.1.1)\n",
      "Requirement already satisfied: jedi>=0.16 in c:\\programdata\\anaconda3\\lib\\site-packages (from ipython->ipython-sql) (0.18.1)\n",
      "Requirement already satisfied: matplotlib-inline in c:\\programdata\\anaconda3\\lib\\site-packages (from ipython->ipython-sql) (0.1.6)\n",
      "Requirement already satisfied: pickleshare in c:\\programdata\\anaconda3\\lib\\site-packages (from ipython->ipython-sql) (0.7.5)\n",
      "Requirement already satisfied: prompt-toolkit!=3.0.37,<3.1.0,>=3.0.30 in c:\\programdata\\anaconda3\\lib\\site-packages (from ipython->ipython-sql) (3.0.36)\n",
      "Requirement already satisfied: pygments>=2.4.0 in c:\\programdata\\anaconda3\\lib\\site-packages (from ipython->ipython-sql) (2.15.1)\n",
      "Requirement already satisfied: stack-data in c:\\programdata\\anaconda3\\lib\\site-packages (from ipython->ipython-sql) (0.2.0)\n",
      "Requirement already satisfied: traitlets>=5 in c:\\programdata\\anaconda3\\lib\\site-packages (from ipython->ipython-sql) (5.7.1)\n",
      "Requirement already satisfied: colorama in c:\\programdata\\anaconda3\\lib\\site-packages (from ipython->ipython-sql) (0.4.6)\n",
      "Requirement already satisfied: wcwidth in c:\\programdata\\anaconda3\\lib\\site-packages (from prettytable->ipython-sql) (0.2.5)\n",
      "Requirement already satisfied: parso<0.9.0,>=0.8.0 in c:\\programdata\\anaconda3\\lib\\site-packages (from jedi>=0.16->ipython->ipython-sql) (0.8.3)\n",
      "Requirement already satisfied: executing in c:\\programdata\\anaconda3\\lib\\site-packages (from stack-data->ipython->ipython-sql) (0.8.3)\n",
      "Requirement already satisfied: asttokens in c:\\programdata\\anaconda3\\lib\\site-packages (from stack-data->ipython->ipython-sql) (2.0.5)\n",
      "Requirement already satisfied: pure-eval in c:\\programdata\\anaconda3\\lib\\site-packages (from stack-data->ipython->ipython-sql) (0.2.2)\n",
      "Downloading ipython_sql-0.5.0-py3-none-any.whl (20 kB)\n",
      "Installing collected packages: ipython-sql\n",
      "Successfully installed ipython-sql-0.5.0\n"
     ]
    },
    {
     "name": "stderr",
     "output_type": "stream",
     "text": [
      "DEPRECATION: Loading egg at c:\\programdata\\anaconda3\\lib\\site-packages\\vboxapi-1.0-py3.11.egg is deprecated. pip 23.3 will enforce this behaviour change. A possible replacement is to use pip for package installation..\n"
     ]
    },
    {
     "name": "stdout",
     "output_type": "stream",
     "text": [
      "Defaulting to user installation because normal site-packages is not writeable\n",
      "Requirement already satisfied: sqlalchemy in c:\\users\\cihat emre karataş\\appdata\\roaming\\python\\python311\\site-packages (2.0.4)\n",
      "Requirement already satisfied: typing-extensions>=4.2.0 in c:\\programdata\\anaconda3\\lib\\site-packages (from sqlalchemy) (4.7.1)\n",
      "Requirement already satisfied: greenlet!=0.4.17 in c:\\programdata\\anaconda3\\lib\\site-packages (from sqlalchemy) (2.0.1)\n"
     ]
    },
    {
     "name": "stderr",
     "output_type": "stream",
     "text": [
      "DEPRECATION: Loading egg at c:\\programdata\\anaconda3\\lib\\site-packages\\vboxapi-1.0-py3.11.egg is deprecated. pip 23.3 will enforce this behaviour change. A possible replacement is to use pip for package installation..\n"
     ]
    }
   ],
   "source": [
    "!pip install duckdb\n",
    "!pip install jupysql\n",
    "!pip install pandas\n",
    "!pip install matplotlib\n",
    "!pip install duckdb-engine\n",
    "!pip install ipython-sql\n",
    "!pip install sqlalchemy"
   ]
  },
  {
   "cell_type": "markdown",
   "id": "81cac456",
   "metadata": {},
   "source": [
    "## Imports"
   ]
  },
  {
   "cell_type": "code",
   "execution_count": 2,
   "id": "cbaf6749",
   "metadata": {
    "scrolled": true
   },
   "outputs": [],
   "source": [
    "import duckdb\n",
    "import pandas as pd"
   ]
  },
  {
   "cell_type": "code",
   "execution_count": 3,
   "id": "6dc6db55",
   "metadata": {
    "scrolled": true
   },
   "outputs": [
    {
     "ename": "ImportError",
     "evalue": "cannot import name 'escape_string_literals_with_colon_prefix' from 'sql.parse' (C:\\Users\\Cihat Emre Karataş\\AppData\\Roaming\\Python\\Python311\\site-packages\\sql\\parse.py)",
     "output_type": "error",
     "traceback": [
      "\u001b[1;31m---------------------------------------------------------------------------\u001b[0m",
      "\u001b[1;31mImportError\u001b[0m                               Traceback (most recent call last)",
      "Cell \u001b[1;32mIn[3], line 1\u001b[0m\n\u001b[1;32m----> 1\u001b[0m get_ipython()\u001b[38;5;241m.\u001b[39mrun_line_magic(\u001b[38;5;124m'\u001b[39m\u001b[38;5;124mload_ext\u001b[39m\u001b[38;5;124m'\u001b[39m, \u001b[38;5;124m'\u001b[39m\u001b[38;5;124msql\u001b[39m\u001b[38;5;124m'\u001b[39m)\n",
      "File \u001b[1;32mC:\\ProgramData\\anaconda3\\Lib\\site-packages\\IPython\\core\\interactiveshell.py:2432\u001b[0m, in \u001b[0;36mInteractiveShell.run_line_magic\u001b[1;34m(self, magic_name, line, _stack_depth)\u001b[0m\n\u001b[0;32m   2430\u001b[0m     kwargs[\u001b[38;5;124m'\u001b[39m\u001b[38;5;124mlocal_ns\u001b[39m\u001b[38;5;124m'\u001b[39m] \u001b[38;5;241m=\u001b[39m \u001b[38;5;28mself\u001b[39m\u001b[38;5;241m.\u001b[39mget_local_scope(stack_depth)\n\u001b[0;32m   2431\u001b[0m \u001b[38;5;28;01mwith\u001b[39;00m \u001b[38;5;28mself\u001b[39m\u001b[38;5;241m.\u001b[39mbuiltin_trap:\n\u001b[1;32m-> 2432\u001b[0m     result \u001b[38;5;241m=\u001b[39m fn(\u001b[38;5;241m*\u001b[39margs, \u001b[38;5;241m*\u001b[39m\u001b[38;5;241m*\u001b[39mkwargs)\n\u001b[0;32m   2434\u001b[0m \u001b[38;5;66;03m# The code below prevents the output from being displayed\u001b[39;00m\n\u001b[0;32m   2435\u001b[0m \u001b[38;5;66;03m# when using magics with decorator @output_can_be_silenced\u001b[39;00m\n\u001b[0;32m   2436\u001b[0m \u001b[38;5;66;03m# when the last Python token in the expression is a ';'.\u001b[39;00m\n\u001b[0;32m   2437\u001b[0m \u001b[38;5;28;01mif\u001b[39;00m \u001b[38;5;28mgetattr\u001b[39m(fn, magic\u001b[38;5;241m.\u001b[39mMAGIC_OUTPUT_CAN_BE_SILENCED, \u001b[38;5;28;01mFalse\u001b[39;00m):\n",
      "File \u001b[1;32mC:\\ProgramData\\anaconda3\\Lib\\site-packages\\IPython\\core\\magics\\extension.py:33\u001b[0m, in \u001b[0;36mExtensionMagics.load_ext\u001b[1;34m(self, module_str)\u001b[0m\n\u001b[0;32m     31\u001b[0m \u001b[38;5;28;01mif\u001b[39;00m \u001b[38;5;129;01mnot\u001b[39;00m module_str:\n\u001b[0;32m     32\u001b[0m     \u001b[38;5;28;01mraise\u001b[39;00m UsageError(\u001b[38;5;124m'\u001b[39m\u001b[38;5;124mMissing module name.\u001b[39m\u001b[38;5;124m'\u001b[39m)\n\u001b[1;32m---> 33\u001b[0m res \u001b[38;5;241m=\u001b[39m \u001b[38;5;28mself\u001b[39m\u001b[38;5;241m.\u001b[39mshell\u001b[38;5;241m.\u001b[39mextension_manager\u001b[38;5;241m.\u001b[39mload_extension(module_str)\n\u001b[0;32m     35\u001b[0m \u001b[38;5;28;01mif\u001b[39;00m res \u001b[38;5;241m==\u001b[39m \u001b[38;5;124m'\u001b[39m\u001b[38;5;124malready loaded\u001b[39m\u001b[38;5;124m'\u001b[39m:\n\u001b[0;32m     36\u001b[0m     \u001b[38;5;28mprint\u001b[39m(\u001b[38;5;124m\"\u001b[39m\u001b[38;5;124mThe \u001b[39m\u001b[38;5;132;01m%s\u001b[39;00m\u001b[38;5;124m extension is already loaded. To reload it, use:\u001b[39m\u001b[38;5;124m\"\u001b[39m \u001b[38;5;241m%\u001b[39m module_str)\n",
      "File \u001b[1;32mC:\\ProgramData\\anaconda3\\Lib\\site-packages\\IPython\\core\\extensions.py:76\u001b[0m, in \u001b[0;36mExtensionManager.load_extension\u001b[1;34m(self, module_str)\u001b[0m\n\u001b[0;32m     69\u001b[0m \u001b[38;5;250m\u001b[39m\u001b[38;5;124;03m\"\"\"Load an IPython extension by its module name.\u001b[39;00m\n\u001b[0;32m     70\u001b[0m \n\u001b[0;32m     71\u001b[0m \u001b[38;5;124;03mReturns the string \"already loaded\" if the extension is already loaded,\u001b[39;00m\n\u001b[0;32m     72\u001b[0m \u001b[38;5;124;03m\"no load function\" if the module doesn't have a load_ipython_extension\u001b[39;00m\n\u001b[0;32m     73\u001b[0m \u001b[38;5;124;03mfunction, or None if it succeeded.\u001b[39;00m\n\u001b[0;32m     74\u001b[0m \u001b[38;5;124;03m\"\"\"\u001b[39;00m\n\u001b[0;32m     75\u001b[0m \u001b[38;5;28;01mtry\u001b[39;00m:\n\u001b[1;32m---> 76\u001b[0m     \u001b[38;5;28;01mreturn\u001b[39;00m \u001b[38;5;28mself\u001b[39m\u001b[38;5;241m.\u001b[39m_load_extension(module_str)\n\u001b[0;32m     77\u001b[0m \u001b[38;5;28;01mexcept\u001b[39;00m \u001b[38;5;167;01mModuleNotFoundError\u001b[39;00m:\n\u001b[0;32m     78\u001b[0m     \u001b[38;5;28;01mif\u001b[39;00m module_str \u001b[38;5;129;01min\u001b[39;00m BUILTINS_EXTS:\n",
      "File \u001b[1;32mC:\\ProgramData\\anaconda3\\Lib\\site-packages\\IPython\\core\\extensions.py:91\u001b[0m, in \u001b[0;36mExtensionManager._load_extension\u001b[1;34m(self, module_str)\u001b[0m\n\u001b[0;32m     89\u001b[0m \u001b[38;5;28;01mwith\u001b[39;00m \u001b[38;5;28mself\u001b[39m\u001b[38;5;241m.\u001b[39mshell\u001b[38;5;241m.\u001b[39mbuiltin_trap:\n\u001b[0;32m     90\u001b[0m     \u001b[38;5;28;01mif\u001b[39;00m module_str \u001b[38;5;129;01mnot\u001b[39;00m \u001b[38;5;129;01min\u001b[39;00m sys\u001b[38;5;241m.\u001b[39mmodules:\n\u001b[1;32m---> 91\u001b[0m         mod \u001b[38;5;241m=\u001b[39m import_module(module_str)\n\u001b[0;32m     92\u001b[0m     mod \u001b[38;5;241m=\u001b[39m sys\u001b[38;5;241m.\u001b[39mmodules[module_str]\n\u001b[0;32m     93\u001b[0m     \u001b[38;5;28;01mif\u001b[39;00m \u001b[38;5;28mself\u001b[39m\u001b[38;5;241m.\u001b[39m_call_load_ipython_extension(mod):\n",
      "File \u001b[1;32mC:\\ProgramData\\anaconda3\\Lib\\importlib\\__init__.py:126\u001b[0m, in \u001b[0;36mimport_module\u001b[1;34m(name, package)\u001b[0m\n\u001b[0;32m    124\u001b[0m             \u001b[38;5;28;01mbreak\u001b[39;00m\n\u001b[0;32m    125\u001b[0m         level \u001b[38;5;241m+\u001b[39m\u001b[38;5;241m=\u001b[39m \u001b[38;5;241m1\u001b[39m\n\u001b[1;32m--> 126\u001b[0m \u001b[38;5;28;01mreturn\u001b[39;00m _bootstrap\u001b[38;5;241m.\u001b[39m_gcd_import(name[level:], package, level)\n",
      "File \u001b[1;32m<frozen importlib._bootstrap>:1204\u001b[0m, in \u001b[0;36m_gcd_import\u001b[1;34m(name, package, level)\u001b[0m\n",
      "File \u001b[1;32m<frozen importlib._bootstrap>:1176\u001b[0m, in \u001b[0;36m_find_and_load\u001b[1;34m(name, import_)\u001b[0m\n",
      "File \u001b[1;32m<frozen importlib._bootstrap>:1147\u001b[0m, in \u001b[0;36m_find_and_load_unlocked\u001b[1;34m(name, import_)\u001b[0m\n",
      "File \u001b[1;32m<frozen importlib._bootstrap>:690\u001b[0m, in \u001b[0;36m_load_unlocked\u001b[1;34m(spec)\u001b[0m\n",
      "File \u001b[1;32m<frozen importlib._bootstrap_external>:940\u001b[0m, in \u001b[0;36mexec_module\u001b[1;34m(self, module)\u001b[0m\n",
      "File \u001b[1;32m<frozen importlib._bootstrap>:241\u001b[0m, in \u001b[0;36m_call_with_frames_removed\u001b[1;34m(f, *args, **kwds)\u001b[0m\n",
      "File \u001b[1;32m~\\AppData\\Roaming\\Python\\Python311\\site-packages\\sql\\__init__.py:1\u001b[0m\n\u001b[1;32m----> 1\u001b[0m \u001b[38;5;28;01mfrom\u001b[39;00m \u001b[38;5;21;01m.\u001b[39;00m\u001b[38;5;21;01mmagic\u001b[39;00m \u001b[38;5;28;01mimport\u001b[39;00m \u001b[38;5;241m*\u001b[39m\n",
      "File \u001b[1;32m~\\AppData\\Roaming\\Python\\Python311\\site-packages\\sql\\magic.py:15\u001b[0m\n\u001b[0;32m     12\u001b[0m \u001b[38;5;28;01mfrom\u001b[39;00m \u001b[38;5;21;01mIPython\u001b[39;00m\u001b[38;5;21;01m.\u001b[39;00m\u001b[38;5;21;01mcore\u001b[39;00m\u001b[38;5;21;01m.\u001b[39;00m\u001b[38;5;21;01mmagic_arguments\u001b[39;00m \u001b[38;5;28;01mimport\u001b[39;00m argument, magic_arguments, parse_argstring\n\u001b[0;32m     13\u001b[0m \u001b[38;5;28;01mfrom\u001b[39;00m \u001b[38;5;21;01msqlalchemy\u001b[39;00m\u001b[38;5;21;01m.\u001b[39;00m\u001b[38;5;21;01mexc\u001b[39;00m \u001b[38;5;28;01mimport\u001b[39;00m OperationalError, ProgrammingError, DatabaseError\n\u001b[1;32m---> 15\u001b[0m \u001b[38;5;28;01mimport\u001b[39;00m \u001b[38;5;21;01msql\u001b[39;00m\u001b[38;5;21;01m.\u001b[39;00m\u001b[38;5;21;01mconnection\u001b[39;00m\n\u001b[0;32m     16\u001b[0m \u001b[38;5;28;01mimport\u001b[39;00m \u001b[38;5;21;01msql\u001b[39;00m\u001b[38;5;21;01m.\u001b[39;00m\u001b[38;5;21;01mparse\u001b[39;00m\n\u001b[0;32m     17\u001b[0m \u001b[38;5;28;01mimport\u001b[39;00m \u001b[38;5;21;01msql\u001b[39;00m\u001b[38;5;21;01m.\u001b[39;00m\u001b[38;5;21;01mrun\u001b[39;00m\n",
      "File \u001b[1;32m~\\AppData\\Roaming\\Python\\Python311\\site-packages\\sql\\connection\\__init__.py:1\u001b[0m\n\u001b[1;32m----> 1\u001b[0m \u001b[38;5;28;01mfrom\u001b[39;00m \u001b[38;5;21;01msql\u001b[39;00m\u001b[38;5;21;01m.\u001b[39;00m\u001b[38;5;21;01mconnection\u001b[39;00m\u001b[38;5;21;01m.\u001b[39;00m\u001b[38;5;21;01mconnection\u001b[39;00m \u001b[38;5;28;01mimport\u001b[39;00m (\n\u001b[0;32m      2\u001b[0m     ConnectionManager,\n\u001b[0;32m      3\u001b[0m     SQLAlchemyConnection,\n\u001b[0;32m      4\u001b[0m     DBAPIConnection,\n\u001b[0;32m      5\u001b[0m     SparkConnectConnection,\n\u001b[0;32m      6\u001b[0m     is_pep249_compliant,\n\u001b[0;32m      7\u001b[0m     is_spark,\n\u001b[0;32m      8\u001b[0m     PLOOMBER_DOCS_LINK_STR,\n\u001b[0;32m      9\u001b[0m     default_alias_for_engine,\n\u001b[0;32m     10\u001b[0m     ResultSetCollection,\n\u001b[0;32m     11\u001b[0m     detect_duckdb_summarize_or_select,\n\u001b[0;32m     12\u001b[0m )\n\u001b[0;32m     15\u001b[0m __all__ \u001b[38;5;241m=\u001b[39m [\n\u001b[0;32m     16\u001b[0m     \u001b[38;5;124m\"\u001b[39m\u001b[38;5;124mConnectionManager\u001b[39m\u001b[38;5;124m\"\u001b[39m,\n\u001b[0;32m     17\u001b[0m     \u001b[38;5;124m\"\u001b[39m\u001b[38;5;124mSQLAlchemyConnection\u001b[39m\u001b[38;5;124m\"\u001b[39m,\n\u001b[1;32m   (...)\u001b[0m\n\u001b[0;32m     25\u001b[0m     \u001b[38;5;124m\"\u001b[39m\u001b[38;5;124mdetect_duckdb_summarize_or_select\u001b[39m\u001b[38;5;124m\"\u001b[39m,\n\u001b[0;32m     26\u001b[0m ]\n",
      "File \u001b[1;32m~\\AppData\\Roaming\\Python\\Python311\\site-packages\\sql\\connection\\connection.py:31\u001b[0m\n\u001b[0;32m     29\u001b[0m \u001b[38;5;28;01mfrom\u001b[39;00m \u001b[38;5;21;01msql\u001b[39;00m \u001b[38;5;28;01mimport\u001b[39;00m exceptions, display\n\u001b[0;32m     30\u001b[0m \u001b[38;5;28;01mfrom\u001b[39;00m \u001b[38;5;21;01msql\u001b[39;00m\u001b[38;5;21;01m.\u001b[39;00m\u001b[38;5;21;01merror_handler\u001b[39;00m \u001b[38;5;28;01mimport\u001b[39;00m handle_exception\n\u001b[1;32m---> 31\u001b[0m \u001b[38;5;28;01mfrom\u001b[39;00m \u001b[38;5;21;01msql\u001b[39;00m\u001b[38;5;21;01m.\u001b[39;00m\u001b[38;5;21;01mparse\u001b[39;00m \u001b[38;5;28;01mimport\u001b[39;00m (\n\u001b[0;32m     32\u001b[0m     escape_string_literals_with_colon_prefix,\n\u001b[0;32m     33\u001b[0m     find_named_parameters,\n\u001b[0;32m     34\u001b[0m     ConnectionsFile,\n\u001b[0;32m     35\u001b[0m )\n\u001b[0;32m     36\u001b[0m \u001b[38;5;28;01mfrom\u001b[39;00m \u001b[38;5;21;01msql\u001b[39;00m\u001b[38;5;21;01m.\u001b[39;00m\u001b[38;5;21;01mwarnings\u001b[39;00m \u001b[38;5;28;01mimport\u001b[39;00m JupySQLQuotedNamedParametersWarning, JupySQLRollbackPerformed\n\u001b[0;32m     37\u001b[0m \u001b[38;5;28;01mfrom\u001b[39;00m \u001b[38;5;21;01msql\u001b[39;00m \u001b[38;5;28;01mimport\u001b[39;00m _current\n",
      "\u001b[1;31mImportError\u001b[0m: cannot import name 'escape_string_literals_with_colon_prefix' from 'sql.parse' (C:\\Users\\Cihat Emre Karataş\\AppData\\Roaming\\Python\\Python311\\site-packages\\sql\\parse.py)"
     ]
    }
   ],
   "source": [
    "%load_ext sql"
   ]
  },
  {
   "cell_type": "code",
   "execution_count": 4,
   "id": "db4a8a2c",
   "metadata": {
    "scrolled": true
   },
   "outputs": [],
   "source": [
    "conn = duckdb.connect()"
   ]
  },
  {
   "cell_type": "code",
   "execution_count": 5,
   "id": "93ae2582",
   "metadata": {
    "scrolled": true
   },
   "outputs": [
    {
     "name": "stderr",
     "output_type": "stream",
     "text": [
      "UsageError: Line magic function `%sql` not found.\n"
     ]
    }
   ],
   "source": [
    "%sql conn --alias duckdb"
   ]
  },
  {
   "cell_type": "markdown",
   "id": "a0737a17",
   "metadata": {},
   "source": [
    "## Create data"
   ]
  },
  {
   "cell_type": "code",
   "execution_count": 6,
   "id": "04ee3bdb",
   "metadata": {
    "scrolled": false
   },
   "outputs": [
    {
     "data": {
      "text/html": [
       "<div>\n",
       "<style scoped>\n",
       "    .dataframe tbody tr th:only-of-type {\n",
       "        vertical-align: middle;\n",
       "    }\n",
       "\n",
       "    .dataframe tbody tr th {\n",
       "        vertical-align: top;\n",
       "    }\n",
       "\n",
       "    .dataframe thead th {\n",
       "        text-align: right;\n",
       "    }\n",
       "</style>\n",
       "<table border=\"1\" class=\"dataframe\">\n",
       "  <thead>\n",
       "    <tr style=\"text-align: right;\">\n",
       "      <th></th>\n",
       "      <th>User_ID</th>\n",
       "      <th>User_Name</th>\n",
       "    </tr>\n",
       "  </thead>\n",
       "  <tbody>\n",
       "    <tr>\n",
       "      <th>0</th>\n",
       "      <td>123</td>\n",
       "      <td>Bob</td>\n",
       "    </tr>\n",
       "    <tr>\n",
       "      <th>1</th>\n",
       "      <td>124</td>\n",
       "      <td>Alice</td>\n",
       "    </tr>\n",
       "    <tr>\n",
       "      <th>2</th>\n",
       "      <td>125</td>\n",
       "      <td>Carrie</td>\n",
       "    </tr>\n",
       "  </tbody>\n",
       "</table>\n",
       "</div>"
      ],
      "text/plain": [
       "   User_ID User_Name\n",
       "0      123       Bob\n",
       "1      124     Alice\n",
       "2      125    Carrie"
      ]
     },
     "execution_count": 6,
     "metadata": {},
     "output_type": "execute_result"
    }
   ],
   "source": [
    "users = {\n",
    "    'User_ID': [123, 124, 125],\n",
    "    'User_Name': ['Bob', 'Alice', 'Carrie'],\n",
    "}\n",
    "\n",
    "users = pd.DataFrame(users)\n",
    "users"
   ]
  },
  {
   "cell_type": "code",
   "execution_count": 7,
   "id": "09bb0041",
   "metadata": {
    "scrolled": true
   },
   "outputs": [
    {
     "data": {
      "text/html": [
       "<div>\n",
       "<style scoped>\n",
       "    .dataframe tbody tr th:only-of-type {\n",
       "        vertical-align: middle;\n",
       "    }\n",
       "\n",
       "    .dataframe tbody tr th {\n",
       "        vertical-align: top;\n",
       "    }\n",
       "\n",
       "    .dataframe thead th {\n",
       "        text-align: right;\n",
       "    }\n",
       "</style>\n",
       "<table border=\"1\" class=\"dataframe\">\n",
       "  <thead>\n",
       "    <tr style=\"text-align: right;\">\n",
       "      <th></th>\n",
       "      <th>User_ID</th>\n",
       "      <th>Order_ID</th>\n",
       "    </tr>\n",
       "  </thead>\n",
       "  <tbody>\n",
       "    <tr>\n",
       "      <th>0</th>\n",
       "      <td>123</td>\n",
       "      <td>333</td>\n",
       "    </tr>\n",
       "    <tr>\n",
       "      <th>1</th>\n",
       "      <td>125</td>\n",
       "      <td>222</td>\n",
       "    </tr>\n",
       "    <tr>\n",
       "      <th>2</th>\n",
       "      <td>126</td>\n",
       "      <td>111</td>\n",
       "    </tr>\n",
       "  </tbody>\n",
       "</table>\n",
       "</div>"
      ],
      "text/plain": [
       "   User_ID  Order_ID\n",
       "0      123       333\n",
       "1      125       222\n",
       "2      126       111"
      ]
     },
     "execution_count": 7,
     "metadata": {},
     "output_type": "execute_result"
    }
   ],
   "source": [
    "\n",
    "orders = {\n",
    "    'User_ID': [123, 125, 126],\n",
    "    'Order_ID': [333, 222, 111],\n",
    "}\n",
    "\n",
    "orders = pd.DataFrame(orders)\n",
    "orders\n"
   ]
  },
  {
   "cell_type": "markdown",
   "id": "4a08583e",
   "metadata": {},
   "source": [
    "## Semi Join"
   ]
  },
  {
   "cell_type": "code",
   "execution_count": 8,
   "id": "602f0b99",
   "metadata": {},
   "outputs": [
    {
     "data": {
      "text/html": [
       "<div>\n",
       "<style scoped>\n",
       "    .dataframe tbody tr th:only-of-type {\n",
       "        vertical-align: middle;\n",
       "    }\n",
       "\n",
       "    .dataframe tbody tr th {\n",
       "        vertical-align: top;\n",
       "    }\n",
       "\n",
       "    .dataframe thead th {\n",
       "        text-align: right;\n",
       "    }\n",
       "</style>\n",
       "<table border=\"1\" class=\"dataframe\">\n",
       "  <thead>\n",
       "    <tr style=\"text-align: right;\">\n",
       "      <th></th>\n",
       "      <th>User_ID</th>\n",
       "      <th>User_Name</th>\n",
       "    </tr>\n",
       "  </thead>\n",
       "  <tbody>\n",
       "    <tr>\n",
       "      <th>0</th>\n",
       "      <td>123</td>\n",
       "      <td>Bob</td>\n",
       "    </tr>\n",
       "    <tr>\n",
       "      <th>1</th>\n",
       "      <td>125</td>\n",
       "      <td>Carrie</td>\n",
       "    </tr>\n",
       "  </tbody>\n",
       "</table>\n",
       "</div>"
      ],
      "text/plain": [
       "   User_ID User_Name\n",
       "0      123       Bob\n",
       "1      125    Carrie"
      ]
     },
     "execution_count": 8,
     "metadata": {},
     "output_type": "execute_result"
    }
   ],
   "source": [
    "query = \"\"\"\n",
    "select *\n",
    "from users U\n",
    "SEMI JOIN orders O\n",
    "ON (U.User_ID = O.User_ID);\n",
    "\"\"\"\n",
    "\n",
    "duckdb.sql(query).df()"
   ]
  },
  {
   "cell_type": "markdown",
   "id": "8508c773",
   "metadata": {},
   "source": [
    "## Anti Join"
   ]
  },
  {
   "cell_type": "code",
   "execution_count": 9,
   "id": "fa82fa91",
   "metadata": {},
   "outputs": [
    {
     "data": {
      "text/html": [
       "<div>\n",
       "<style scoped>\n",
       "    .dataframe tbody tr th:only-of-type {\n",
       "        vertical-align: middle;\n",
       "    }\n",
       "\n",
       "    .dataframe tbody tr th {\n",
       "        vertical-align: top;\n",
       "    }\n",
       "\n",
       "    .dataframe thead th {\n",
       "        text-align: right;\n",
       "    }\n",
       "</style>\n",
       "<table border=\"1\" class=\"dataframe\">\n",
       "  <thead>\n",
       "    <tr style=\"text-align: right;\">\n",
       "      <th></th>\n",
       "      <th>User_ID</th>\n",
       "      <th>User_Name</th>\n",
       "    </tr>\n",
       "  </thead>\n",
       "  <tbody>\n",
       "    <tr>\n",
       "      <th>0</th>\n",
       "      <td>124</td>\n",
       "      <td>Alice</td>\n",
       "    </tr>\n",
       "  </tbody>\n",
       "</table>\n",
       "</div>"
      ],
      "text/plain": [
       "   User_ID User_Name\n",
       "0      124     Alice"
      ]
     },
     "execution_count": 9,
     "metadata": {},
     "output_type": "execute_result"
    }
   ],
   "source": [
    "query = \"\"\"\n",
    "select *\n",
    "from users U\n",
    "ANTI JOIN orders O\n",
    "ON (U.User_ID = O.User_ID);\n",
    "\"\"\"\n",
    "\n",
    "duckdb.sql(query).df()"
   ]
  },
  {
   "cell_type": "markdown",
   "id": "6cffcbda",
   "metadata": {},
   "source": [
    "## Natural Join"
   ]
  },
  {
   "cell_type": "code",
   "execution_count": 10,
   "id": "91649917",
   "metadata": {},
   "outputs": [
    {
     "data": {
      "text/html": [
       "<div>\n",
       "<style scoped>\n",
       "    .dataframe tbody tr th:only-of-type {\n",
       "        vertical-align: middle;\n",
       "    }\n",
       "\n",
       "    .dataframe tbody tr th {\n",
       "        vertical-align: top;\n",
       "    }\n",
       "\n",
       "    .dataframe thead th {\n",
       "        text-align: right;\n",
       "    }\n",
       "</style>\n",
       "<table border=\"1\" class=\"dataframe\">\n",
       "  <thead>\n",
       "    <tr style=\"text-align: right;\">\n",
       "      <th></th>\n",
       "      <th>User_ID</th>\n",
       "      <th>User_Name</th>\n",
       "      <th>Order_ID</th>\n",
       "    </tr>\n",
       "  </thead>\n",
       "  <tbody>\n",
       "    <tr>\n",
       "      <th>0</th>\n",
       "      <td>123</td>\n",
       "      <td>Bob</td>\n",
       "      <td>333</td>\n",
       "    </tr>\n",
       "    <tr>\n",
       "      <th>1</th>\n",
       "      <td>125</td>\n",
       "      <td>Carrie</td>\n",
       "      <td>222</td>\n",
       "    </tr>\n",
       "  </tbody>\n",
       "</table>\n",
       "</div>"
      ],
      "text/plain": [
       "   User_ID User_Name  Order_ID\n",
       "0      123       Bob       333\n",
       "1      125    Carrie       222"
      ]
     },
     "execution_count": 10,
     "metadata": {},
     "output_type": "execute_result"
    }
   ],
   "source": [
    "query = \"\"\"\n",
    "select *\n",
    "from users U\n",
    "NATURAL JOIN orders O;\n",
    "\"\"\"\n",
    "\n",
    "duckdb.sql(query).df()"
   ]
  },
  {
   "cell_type": "code",
   "execution_count": 14,
   "id": "3a0f0a68",
   "metadata": {},
   "outputs": [
    {
     "name": "stdout",
     "output_type": "stream",
     "text": [
      "(3, 'Fatma', 35, 'Bursa')\n",
      "(4, 'Ali', 40, 'Antalya')\n",
      "('İstanbul', 25)\n",
      "('Ankara', 30)\n",
      "('Antalya', 40)\n",
      "('İzmir', 20)\n",
      "('Bursa', 35)\n",
      "(3, 'Fatma', 35, 'Bursa')\n",
      "(4, 'Ali', 40, 'Antalya')\n"
     ]
    },
    {
     "name": "stderr",
     "output_type": "stream",
     "text": [
      "C:\\Users\\Cihat Emre Karataş\\AppData\\Local\\Temp\\ipykernel_15708\\2401828429.py:18: UserWarning: pandas only supports SQLAlchemy connectable (engine/connection) or database string URI or sqlite3 DBAPI2 connection. Other DBAPI2 objects are not tested. Please consider using SQLAlchemy.\n",
      "  df.to_sql('veri_seti', conn)\n"
     ]
    }
   ],
   "source": [
    "import duckdb\n",
    "import pandas as pd\n",
    "\n",
    "# DuckDB bağlantısı oluşturma\n",
    "conn = duckdb.connect()\n",
    "\n",
    "# Veri seti oluşturma\n",
    "data = {\n",
    "    'isim': ['Ahmet', 'Mehmet', 'Ayşe', 'Fatma', 'Ali'],\n",
    "    'yas': [25, 30, 20, 35, 40],\n",
    "    'şehir': ['İstanbul', 'Ankara', 'İzmir', 'Bursa', 'Antalya']\n",
    "}\n",
    "\n",
    "# Veri setini DataFrame'e dönüştürme\n",
    "df = pd.DataFrame(data)\n",
    "\n",
    "# Veri setini DuckDB'ye kaydetme\n",
    "df.to_sql('veri_seti', conn)\n",
    "\n",
    "\n",
    "\n",
    "# Sonuçları yazdırma\n",
    "for row in sonuc:\n",
    "    print(row)\n",
    "\n",
    "# Veri setini gruplama ve toplama\n",
    "sorgu = \"SELECT şehir, SUM(yas) AS toplam_yas FROM veri_seti GROUP BY şehir\"\n",
    "sonuc = conn.execute(sorgu).fetchall()\n",
    "\n",
    "# Sonuçları yazdırma\n",
    "for row in sonuc:\n",
    "    print(row)\n",
    "\n",
    "# Veri setini filtreleme\n",
    "sorgu = \"SELECT * FROM veri_seti WHERE yas > 30\"\n",
    "sonuc = conn.execute(sorgu).fetchall()\n",
    "\n",
    "# Sonuçları yazdırma\n",
    "for row in sonuc:\n",
    "    print(row)\n"
   ]
  },
  {
   "cell_type": "code",
   "execution_count": 24,
   "id": "6b39264f",
   "metadata": {},
   "outputs": [
    {
     "name": "stdout",
     "output_type": "stream",
     "text": [
      "(1,)\n"
     ]
    }
   ],
   "source": [
    "# Veri setini sorgulama\n",
    "sorgu = \"SELECT COUNT(yas) FROM veri_seti WHERE LOWER(şehir) = 'istanbul'\"\n",
    "sonuc = conn.execute(sorgu).fetchall()\n",
    "\n",
    "# Sonuçları yazdırma\n",
    "for row in sonuc:\n",
    "    print(row)"
   ]
  },
  {
   "cell_type": "code",
   "execution_count": 27,
   "id": "394deb0d",
   "metadata": {},
   "outputs": [
    {
     "ename": "BinderException",
     "evalue": "Binder Error: Referenced column \"satış_adedi\" not found in FROM clause!\nCandidate bindings: \"satış_verileri.satış_tarihi\", \"satış_verileri.satış_tutarı\", \"satış_verileri.müşteri_id\", \"ürün_verileri.stok_durumu\", \"ürün_verileri.fiyat\"\nLINE 1: ...rileri WHERE satış_adedi = (SELECT MAX(satış_adedi) FROM satış_verileri)\n                                                  ^",
     "output_type": "error",
     "traceback": [
      "\u001b[1;31m---------------------------------------------------------------------------\u001b[0m",
      "\u001b[1;31mBinderException\u001b[0m                           Traceback (most recent call last)",
      "Cell \u001b[1;32mIn[27], line 19\u001b[0m\n\u001b[0;32m     17\u001b[0m conn\u001b[38;5;241m.\u001b[39mexecute(\u001b[38;5;124m\"\u001b[39m\u001b[38;5;124mSELECT COUNT(*) FROM satış_verileri\u001b[39m\u001b[38;5;124m\"\u001b[39m)\n\u001b[0;32m     18\u001b[0m conn\u001b[38;5;241m.\u001b[39mexecute(\u001b[38;5;124m\"\u001b[39m\u001b[38;5;124mSELECT AVG(satış_tutarı) FROM satış_verileri\u001b[39m\u001b[38;5;124m\"\u001b[39m)\n\u001b[1;32m---> 19\u001b[0m conn\u001b[38;5;241m.\u001b[39mexecute(\u001b[38;5;124m\"\u001b[39m\u001b[38;5;124mSELECT ürün_adı FROM ürün_verileri WHERE satış_adedi = (SELECT MAX(satış_adedi) FROM satış_verileri)\u001b[39m\u001b[38;5;124m\"\u001b[39m)\n",
      "\u001b[1;31mBinderException\u001b[0m: Binder Error: Referenced column \"satış_adedi\" not found in FROM clause!\nCandidate bindings: \"satış_verileri.satış_tarihi\", \"satış_verileri.satış_tutarı\", \"satış_verileri.müşteri_id\", \"ürün_verileri.stok_durumu\", \"ürün_verileri.fiyat\"\nLINE 1: ...rileri WHERE satış_adedi = (SELECT MAX(satış_adedi) FROM satış_verileri)\n                                                  ^"
     ]
    }
   ],
   "source": [
    "import duckdb\n",
    "\n",
    "# Veri tabanları oluşturma\n",
    "conn = duckdb.connect()\n",
    "conn.execute(\"CREATE TABLE müşteri_verileri (id INTEGER, ad TEXT, soyad TEXT, e_posta TEXT, telefon_numarası TEXT, adres TEXT)\")\n",
    "conn.execute(\"CREATE TABLE ürün_verileri (id INTEGER, ürün_adı TEXT, ürün_kodu TEXT, fiyat REAL, stok_durumu INTEGER)\")\n",
    "conn.execute(\"CREATE TABLE satış_verileri (id INTEGER, satış_tarihi DATE, satış_tutarı REAL, müşteri_id INTEGER, ürün_id INTEGER)\")\n",
    "\n",
    "# Veri ekleme\n",
    "conn.execute(\"INSERT INTO müşteri_verileri (id, ad, soyad, e_posta, telefon_numarası, adres) VALUES (1, 'Ali', 'Demir', 'ali.demir@example.com', '0555 123 4567', 'İstanbul')\")\n",
    "conn.execute(\"INSERT INTO ürün_verileri (id, ürün_adı, ürün_kodu, fiyat, stok_durumu) VALUES (1, 'Ürün 1', 'ÜR001', 100.0, 1)\")\n",
    "conn.execute(\"INSERT INTO satış_verileri (id, satış_tarihi, satış_tutarı, müşteri_id, ürün_id) VALUES (1, '2022-01-01', 100.0, 1, 1)\")\n",
    "\n",
    "# Veri analizi\n",
    "conn.execute(\"SELECT COUNT(*) FROM müşteri_verileri\")\n",
    "conn.execute(\"SELECT COUNT(*) FROM ürün_verileri\")\n",
    "conn.execute(\"SELECT COUNT(*) FROM satış_verileri\")\n",
    "conn.execute(\"SELECT AVG(satış_tutarı) FROM satış_verileri\")\n",
    "conn.execute(\"SELECT ürün_adı FROM ürün_verileri WHERE satış_adedi = (SELECT MAX(satış_adedi) FROM satış_verileri)\")"
   ]
  },
  {
   "cell_type": "code",
   "execution_count": 25,
   "id": "fb9a8607",
   "metadata": {},
   "outputs": [],
   "source": [
    "\n",
    "# DuckDB bağlantısını kapatma\n",
    "conn.close()"
   ]
  },
  {
   "cell_type": "code",
   "execution_count": null,
   "id": "935ac531",
   "metadata": {},
   "outputs": [],
   "source": []
  }
 ],
 "metadata": {
  "kernelspec": {
   "display_name": "Python 3 (ipykernel)",
   "language": "python",
   "name": "python3"
  },
  "language_info": {
   "codemirror_mode": {
    "name": "ipython",
    "version": 3
   },
   "file_extension": ".py",
   "mimetype": "text/x-python",
   "name": "python",
   "nbconvert_exporter": "python",
   "pygments_lexer": "ipython3",
   "version": "3.11.5"
  },
  "toc": {
   "base_numbering": 1,
   "nav_menu": {},
   "number_sections": true,
   "sideBar": true,
   "skip_h1_title": false,
   "title_cell": "Table of Contents",
   "title_sidebar": "Contents",
   "toc_cell": false,
   "toc_position": {},
   "toc_section_display": true,
   "toc_window_display": false
  }
 },
 "nbformat": 4,
 "nbformat_minor": 5
}

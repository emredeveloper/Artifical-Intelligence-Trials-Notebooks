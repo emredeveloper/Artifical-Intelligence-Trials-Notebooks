{
 "cells": [
  {
   "cell_type": "code",
   "execution_count": 11,
   "id": "27d90a58",
   "metadata": {},
   "outputs": [],
   "source": [
    "class quadtirck:\n",
    "    def __init__(self, a, b, c, d):\n",
    "        self.a = a\n",
    "        self.b = b\n",
    "        self.c = c\n",
    "        self.d = d\n",
    "        \n",
    "    def __str__(self):\n",
    "        return '(%s, %s, %s, %s)' % (self.a, self.b, self.c, self.d)\n",
    "    \n",
    "    def evulate(self):\n",
    "        return self.a * self.d - self.b * self.c"
   ]
  },
  {
   "cell_type": "code",
   "execution_count": 12,
   "id": "bd986247",
   "metadata": {},
   "outputs": [
    {
     "name": "stdout",
     "output_type": "stream",
     "text": [
      "(1, 2, 3, 4)\n"
     ]
    }
   ],
   "source": [
    "print(quadtirck(1,2,3,4))"
   ]
  },
  {
   "cell_type": "code",
   "execution_count": 13,
   "id": "269199c0",
   "metadata": {},
   "outputs": [
    {
     "data": {
      "text/plain": [
       "-2"
      ]
     },
     "execution_count": 13,
     "metadata": {},
     "output_type": "execute_result"
    }
   ],
   "source": [
    "quad = quadtirck(1,2,3,4)\n",
    "\n",
    "quad.evulate()"
   ]
  },
  {
   "cell_type": "code",
   "execution_count": 14,
   "id": "52f37672",
   "metadata": {},
   "outputs": [],
   "source": [
    "import math"
   ]
  },
  {
   "cell_type": "code",
   "execution_count": 15,
   "id": "30ca634c",
   "metadata": {},
   "outputs": [],
   "source": [
    "def is_square(n):\n",
    "    return math.sqrt(n) % 1 == 0"
   ]
  },
  {
   "cell_type": "code",
   "execution_count": 17,
   "id": "ed167c62",
   "metadata": {},
   "outputs": [
    {
     "data": {
      "text/plain": [
       "True"
      ]
     },
     "execution_count": 17,
     "metadata": {},
     "output_type": "execute_result"
    }
   ],
   "source": [
    "is_square(4)"
   ]
  },
  {
   "cell_type": "code",
   "execution_count": 20,
   "id": "3fbf39fb",
   "metadata": {},
   "outputs": [
    {
     "data": {
      "text/plain": [
       "148.4131591025766"
      ]
     },
     "execution_count": 20,
     "metadata": {},
     "output_type": "execute_result"
    }
   ],
   "source": [
    "sayi = 5\n",
    "math.exp(sayi)"
   ]
  },
  {
   "cell_type": "code",
   "execution_count": 22,
   "id": "77657608",
   "metadata": {},
   "outputs": [],
   "source": [
    "def disc(self):\n",
    "    discriminant = self.b * self.b - 4 * self.a * self.c\n",
    "    if discriminant < 0:\n",
    "        return None\n",
    "    else:\n",
    "        x1 = (-self.b + math.sqrt(discriminant)) / (2 * self.a)\n",
    "        x2 = (-self.b - math.sqrt(discriminant)) / (2 * self.a)\n",
    "        return x1, x2"
   ]
  },
  {
   "cell_type": "code",
   "execution_count": 26,
   "id": "d3db3a1e",
   "metadata": {},
   "outputs": [
    {
     "ename": "ModuleNotFoundError",
     "evalue": "No module named 'abstractmethod'",
     "output_type": "error",
     "traceback": [
      "\u001b[1;31m---------------------------------------------------------------------------\u001b[0m",
      "\u001b[1;31mModuleNotFoundError\u001b[0m                       Traceback (most recent call last)",
      "Cell \u001b[1;32mIn[26], line 1\u001b[0m\n\u001b[1;32m----> 1\u001b[0m \u001b[38;5;28;01mimport\u001b[39;00m \u001b[38;5;21;01mabstractmethod\u001b[39;00m\n\u001b[0;32m      3\u001b[0m \u001b[38;5;129m@abstractmethod\u001b[39m\n\u001b[0;32m      4\u001b[0m \u001b[38;5;28;01mdef\u001b[39;00m \u001b[38;5;21mevulate\u001b[39m(\u001b[38;5;28mself\u001b[39m):\n\u001b[0;32m      5\u001b[0m     \u001b[38;5;28;01mreturn\u001b[39;00m \u001b[38;5;28mself\u001b[39m\n",
      "\u001b[1;31mModuleNotFoundError\u001b[0m: No module named 'abstractmethod'"
     ]
    }
   ],
   "source": [
    "import abstractmethod\n",
    "\n",
    "@abstractmethod\n",
    "def evulate(self):\n",
    "    return self\n",
    "\n",
    "def toplama(a, b):\n",
    "    def evulate(self):\n",
    "        return a + b\n",
    "    return evulate"
   ]
  },
  {
   "cell_type": "code",
   "execution_count": null,
   "id": "4a41c8a5",
   "metadata": {},
   "outputs": [],
   "source": []
  }
 ],
 "metadata": {
  "kernelspec": {
   "display_name": "Python 3 (ipykernel)",
   "language": "python",
   "name": "python3"
  },
  "language_info": {
   "codemirror_mode": {
    "name": "ipython",
    "version": 3
   },
   "file_extension": ".py",
   "mimetype": "text/x-python",
   "name": "python",
   "nbconvert_exporter": "python",
   "pygments_lexer": "ipython3",
   "version": "3.11.5"
  }
 },
 "nbformat": 4,
 "nbformat_minor": 5
}

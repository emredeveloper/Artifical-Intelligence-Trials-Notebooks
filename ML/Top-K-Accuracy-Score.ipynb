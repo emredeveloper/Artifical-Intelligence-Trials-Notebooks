{
  "metadata": {
    "kernelspec": {
      "name": "python3",
      "display_name": "Python 3 (ipykernel)",
      "language": "python"
    },
    "language_info": {
      "name": "python",
      "version": "3.12.3",
      "mimetype": "text/x-python",
      "codemirror_mode": {
        "name": "ipython",
        "version": 3
      },
      "pygments_lexer": "ipython3",
      "nbconvert_exporter": "python",
      "file_extension": ".py"
    }
  },
  "nbformat_minor": 5,
  "nbformat": 4,
  "cells": [
    {
      "id": "fdb0dd67-1cbf-4e8c-9668-dc25be9bc321",
      "cell_type": "code",
      "source": "from sklearn.metrics import top_k_accuracy_score\nfrom sklearn.model_selection import train_test_split\nfrom sklearn.preprocessing import LabelBinarizer\nfrom sklearn.datasets import load_iris\nfrom sklearn.ensemble import RandomForestClassifier\n\n# Veri k\u00fcmesi y\u00fckleme\niris = load_iris()\nX, y = iris.data, iris.target\n\n# Veriyi e\u011fitim ve test setlerine b\u00f6lme\nX_train, X_test, y_train, y_test = train_test_split(X, y, test_size=0.2, random_state=42)\n\n# Model e\u011fitimi\nmodel = RandomForestClassifier(random_state=42)\nmodel.fit(X_train, y_train)\n\n# Tahminler\ny_pred_probabilities = model.predict_proba(X_test)\n\n# Top-k do\u011fruluk skoru hesaplama\nk = 2\naccuracy = top_k_accuracy_score(y_test, y_pred_probabilities, k=4)\nprint(f\"Top-{k} Do\u011fruluk Skoru: {accuracy:.2f}\")",
      "metadata": {
        "trusted": true
      },
      "outputs": [
        {
          "name": "stdout",
          "output_type": "stream",
          "text": "Top-2 Do\u011fruluk Skoru: 1.00\n"
        },
        {
          "name": "stderr",
          "output_type": "stream",
          "text": "C:\\Users\\DevToolsUser\\anaconda3\\Lib\\site-packages\\sklearn\\metrics\\_ranking.py:2025: UndefinedMetricWarning: 'k' (4) greater than or equal to 'n_classes' (3) will result in a perfect score and is therefore meaningless.\n  warnings.warn(\n"
        }
      ],
      "execution_count": 3
    },
    {
      "id": "b186304c-8c47-486d-b4e8-1af3b916a8eb",
      "cell_type": "code",
      "source": "y_pred_probabilities",
      "metadata": {
        "trusted": true
      },
      "outputs": [
        {
          "execution_count": 4,
          "output_type": "execute_result",
          "data": {
            "text/plain": "array([[0.  , 0.99, 0.01],\n       [1.  , 0.  , 0.  ],\n       [0.  , 0.03, 0.97],\n       [0.  , 1.  , 0.  ],\n       [0.  , 0.87, 0.13],\n       [1.  , 0.  , 0.  ],\n       [0.  , 1.  , 0.  ],\n       [0.  , 0.08, 0.92],\n       [0.  , 0.86, 0.14],\n       [0.  , 1.  , 0.  ],\n       [0.  , 0.05, 0.95],\n       [1.  , 0.  , 0.  ],\n       [0.94, 0.06, 0.  ],\n       [1.  , 0.  , 0.  ],\n       [1.  , 0.  , 0.  ],\n       [0.  , 0.98, 0.02],\n       [0.  , 0.  , 1.  ],\n       [0.  , 1.  , 0.  ],\n       [0.  , 1.  , 0.  ],\n       [0.  , 0.01, 0.99],\n       [1.  , 0.  , 0.  ],\n       [0.  , 0.08, 0.92],\n       [1.  , 0.  , 0.  ],\n       [0.  , 0.01, 0.99],\n       [0.  , 0.  , 1.  ],\n       [0.  , 0.04, 0.96],\n       [0.  , 0.06, 0.94],\n       [0.  , 0.  , 1.  ],\n       [1.  , 0.  , 0.  ],\n       [1.  , 0.  , 0.  ]])"
          },
          "metadata": {}
        }
      ],
      "execution_count": 4
    },
    {
      "id": "f95b033f-7e5e-464a-9902-ea1477664a45",
      "cell_type": "code",
      "source": "",
      "metadata": {
        "trusted": true
      },
      "outputs": [],
      "execution_count": null
    }
  ]
}
{
 "cells": [
  {
   "cell_type": "code",
   "execution_count": 1,
   "id": "c4b06cb6",
   "metadata": {},
   "outputs": [
    {
     "name": "stdout",
     "output_type": "stream",
     "text": [
      "Orijinal boyutlar: (100, 1000)\n",
      "Düşürülmüş boyutlar: (100, 50)\n"
     ]
    }
   ],
   "source": [
    "from sklearn.random_projection import GaussianRandomProjection\n",
    "import numpy as np\n",
    "\n",
    "# Yüksek boyutlu veri oluşturma\n",
    "X = np.random.rand(100, 1000)  # 100 örnek ve 1000 özellikli veri\n",
    "\n",
    "# Gaussian random projection kullanarak boyut indirgeme\n",
    "n_components = 50  # Hedeflenen düşük boyut sayısı\n",
    "rp = GaussianRandomProjection(n_components=n_components)\n",
    "\n",
    "X_reduced = rp.fit_transform(X)\n",
    "\n",
    "print(\"Orijinal boyutlar:\", X.shape)\n",
    "print(\"Düşürülmüş boyutlar:\", X_reduced.shape)\n"
   ]
  },
  {
   "cell_type": "code",
   "execution_count": 2,
   "id": "f138c871",
   "metadata": {},
   "outputs": [],
   "source": [
    "from sklearn.random_projection import SparseRandomProjection\n",
    "\n",
    "rp = SparseRandomProjection(n_components=50)\n",
    "X_reduced = rp.fit_transform(X)\n"
   ]
  },
  {
   "cell_type": "code",
   "execution_count": null,
   "id": "cb753f1e",
   "metadata": {},
   "outputs": [],
   "source": []
  }
 ],
 "metadata": {
  "kernelspec": {
   "display_name": "Python 3 (ipykernel)",
   "language": "python",
   "name": "python3"
  },
  "language_info": {
   "codemirror_mode": {
    "name": "ipython",
    "version": 3
   },
   "file_extension": ".py",
   "mimetype": "text/x-python",
   "name": "python",
   "nbconvert_exporter": "python",
   "pygments_lexer": "ipython3",
   "version": "3.11.5"
  }
 },
 "nbformat": 4,
 "nbformat_minor": 5
}

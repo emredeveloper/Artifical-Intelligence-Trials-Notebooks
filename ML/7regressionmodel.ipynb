{
 "cells": [
  {
   "cell_type": "code",
   "execution_count": 7,
   "metadata": {},
   "outputs": [],
   "source": [
    "import numpy as np\n",
    "import pandas as pd\n",
    "from sklearn.linear_model import (\n",
    "    HuberRegressor,\n",
    "    QuantileRegressor,\n",
    "    RANSACRegressor,\n",
    "    TheilSenRegressor,\n",
    "    GammaRegressor,\n",
    "    PoissonRegressor,\n",
    "    TweedieRegressor,\n",
    "    PassiveAggressiveRegressor\n",
    ")\n",
    "from sklearn.preprocessing import StandardScaler\n",
    "import markdown"
   ]
  },
  {
   "cell_type": "code",
   "execution_count": 8,
   "metadata": {},
   "outputs": [],
   "source": [
    "# Veri seti\n",
    "X = [[1, 2], [2, 3], [3, 4], [4, 3]]\n",
    "y = [2, 3.5, 5, 5.5]\n",
    "\n",
    "# Ölçeklendirme\n",
    "scaler = StandardScaler()\n",
    "X_scaled = scaler.fit_transform(X)"
   ]
  },
  {
   "cell_type": "code",
   "execution_count": 9,
   "metadata": {},
   "outputs": [],
   "source": [
    "# Regressorların listesi\n",
    "regressors = {\n",
    "    \"HuberRegressor\": HuberRegressor(),\n",
    "    \"QuantileRegressor\": QuantileRegressor(),\n",
    "    \"RANSACRegressor\": RANSACRegressor(),\n",
    "    \"TheilSenRegressor\": TheilSenRegressor(),\n",
    "    \"GammaRegressor\": GammaRegressor(),\n",
    "    \"PoissonRegressor\": PoissonRegressor(),\n",
    "    \"TweedieRegressor\": TweedieRegressor(),\n",
    "    \"PassiveAggressiveRegressor\": PassiveAggressiveRegressor()\n",
    "}\n",
    "\n",
    "# Sonuçları saklamak için bir dataframe\n",
    "results = []"
   ]
  },
  {
   "cell_type": "code",
   "execution_count": 10,
   "metadata": {},
   "outputs": [],
   "source": [
    "# Her model üzerinde işlemleri uygula\n",
    "for name, regressor in regressors.items():\n",
    "    try:\n",
    "        # Modeli eğit\n",
    "        regressor.fit(X_scaled, y)\n",
    "        \n",
    "        # Performans ve parametreler\n",
    "        score = regressor.score(X_scaled, y)\n",
    "        coef = regressor.coef_ if hasattr(regressor, \"coef_\") else None\n",
    "        intercept = regressor.intercept_ if hasattr(regressor, \"intercept_\") else None\n",
    "        predictions = regressor.predict(scaler.transform([[1, 1], [3, 4]]))\n",
    "        \n",
    "        # Sonuçları kaydet\n",
    "        results.append({\n",
    "            \"Model\": name,\n",
    "            \"Score\": score,\n",
    "            \"Coefficients\": coef,\n",
    "            \"Intercept\": intercept,\n",
    "            \"Predictions\": predictions\n",
    "        })\n",
    "    except Exception as e:\n",
    "        # Hata varsa kaydet\n",
    "        results.append({\n",
    "            \"Model\": name,\n",
    "            \"Score\": None,\n",
    "            \"Coefficients\": None,\n",
    "            \"Intercept\": None,\n",
    "            \"Predictions\": str(e)\n",
    "        })"
   ]
  },
  {
   "cell_type": "code",
   "execution_count": 12,
   "metadata": {},
   "outputs": [
    {
     "name": "stdout",
     "output_type": "stream",
     "text": [
      "<p>|    | Model                      |     Score | Coefficients            |   Intercept | Predictions             |\n",
      "|---:|:---------------------------|----------:|:------------------------|------------:|:------------------------|\n",
      "|  0 | HuberRegressor             |  1        | [1.11803399 0.35355339] |     4       | [1.49999999 5.        ] |\n",
      "|  1 | QuantileRegressor          | -0.533333 | [0. 0.]                 |     5       | [5. 5.]                 |\n",
      "|  2 | RANSACRegressor            |  1        |                         |             | [1.5 5. ]               |\n",
      "|  3 | TheilSenRegressor          |  1        | [1.11777842 0.35371503] |     3.99989 | [1.49977141 5.        ] |\n",
      "|  4 | GammaRegressor             |  0.814254 | [0.15227573 0.10791102] |     1.32827 | [2.26767128 4.70666797] |\n",
      "|  5 | PoissonRegressor           |  0.959637 | [0.22638175 0.12267411] |     1.33863 | [1.98958775 5.01961685] |\n",
      "|  6 | TweedieRegressor           |  0.833333 | [0.55901659 0.35355313] |     4       | [2.25000129 4.74999945] |\n",
      "|  7 | PassiveAggressiveRegressor |  0.997855 | [1.19641514 0.31298034] |     3.98402 | [1.49361675 4.96169235] |</p>\n"
     ]
    }
   ],
   "source": [
    "# Sonuçları tablo olarak göster\n",
    "df_results = pd.DataFrame(results)\n",
    "print(markdown.markdown(df_results.to_markdown()))"
   ]
  }
 ],
 "metadata": {
  "kernelspec": {
   "display_name": ".venv",
   "language": "python",
   "name": "python3"
  },
  "language_info": {
   "codemirror_mode": {
    "name": "ipython",
    "version": 3
   },
   "file_extension": ".py",
   "mimetype": "text/x-python",
   "name": "python",
   "nbconvert_exporter": "python",
   "pygments_lexer": "ipython3",
   "version": "3.11.9"
  }
 },
 "nbformat": 4,
 "nbformat_minor": 2
}

{
  "metadata": {
    "kernelspec": {
      "display_name": "Python 3 (ipykernel)",
      "language": "python",
      "name": "python3"
    },
    "language_info": {
      "name": "python",
      "version": "3.12.3",
      "mimetype": "text/x-python",
      "codemirror_mode": {
        "name": "ipython",
        "version": 3
      },
      "pygments_lexer": "ipython3",
      "nbconvert_exporter": "python",
      "file_extension": ".py"
    }
  },
  "nbformat_minor": 5,
  "nbformat": 4,
  "cells": [
    {
      "id": "c4b06cb6",
      "cell_type": "code",
      "source": "from sklearn.random_projection import GaussianRandomProjection\nimport numpy as np\n\n# Y\u00fcksek boyutlu veri olu\u015fturma\nX = np.random.rand(100, 1000)  # 100 \u00f6rnek ve 1000 \u00f6zellikli veri\n\n# Gaussian random projection kullanarak boyut indirgeme\nn_components = 50  # Hedeflenen d\u00fc\u015f\u00fck boyut say\u0131s\u0131\nrp = GaussianRandomProjection(n_components=n_components)\n\nX_reduced = rp.fit_transform(X)\n\nprint(\"Orijinal boyutlar:\", X.shape)\nprint(\"D\u00fc\u015f\u00fcr\u00fclm\u00fc\u015f boyutlar:\", X_reduced.shape)\n",
      "metadata": {
        "trusted": false
      },
      "outputs": [
        {
          "name": "stdout",
          "output_type": "stream",
          "text": "Orijinal boyutlar: (100, 1000)\n,D\u00fc\u015f\u00fcr\u00fclm\u00fc\u015f boyutlar: (100, 50)\n"
        }
      ],
      "execution_count": 1
    },
    {
      "id": "f138c871",
      "cell_type": "code",
      "source": "from sklearn.random_projection import SparseRandomProjection\n\nrp = SparseRandomProjection(n_components=50)\nX_reduced = rp.fit_transform(X)\n",
      "metadata": {
        "trusted": false
      },
      "outputs": [],
      "execution_count": 2
    },
    {
      "id": "cb753f1e",
      "cell_type": "code",
      "source": "",
      "metadata": {
        "trusted": false
      },
      "outputs": [],
      "execution_count": null
    }
  ]
}